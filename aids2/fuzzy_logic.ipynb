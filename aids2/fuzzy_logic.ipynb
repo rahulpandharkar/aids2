{
  "nbformat": 4,
  "nbformat_minor": 0,
  "metadata": {
    "colab": {
      "provenance": []
    },
    "kernelspec": {
      "name": "python3",
      "display_name": "Python 3"
    },
    "language_info": {
      "name": "python"
    }
  },
  "cells": [
    {
      "cell_type": "code",
      "execution_count": 1,
      "metadata": {
        "colab": {
          "base_uri": "https://localhost:8080/"
        },
        "id": "sQmCK4qVpX0G",
        "outputId": "7cfbce79-2cfc-4b9d-c442-6e37bb048691"
      },
      "outputs": [
        {
          "output_type": "stream",
          "name": "stdout",
          "text": [
            "Set A: {1: 1, 2: 1, 3: 1, 4: 1, 5: 0.5, 6: 0.0, 7: 0, 8: 0, 9: 0, 10: 0}\n",
            "Set B: {1: 0, 2: 1, 3: 0, 4: 1, 5: 0, 6: 1, 7: 0, 8: 1, 9: 0, 10: 1}\n",
            "Union (A∪B): {1: 1, 2: 1, 3: 1, 4: 1, 5: 0.5, 6: 1, 7: 0, 8: 1, 9: 0, 10: 1}\n",
            "Intersection (A∩B): {1: 0, 2: 1, 3: 0, 4: 1, 5: 0, 6: 0.0, 7: 0, 8: 0, 9: 0, 10: 0}\n",
            "Complement of A (A'): {1: 0, 2: 0, 3: 0, 4: 0, 5: 0.5, 6: 1.0, 7: 1, 8: 1, 9: 1, 10: 1}\n",
            "Difference (A-B): {1: 1, 2: 0, 3: 1, 4: 0, 5: 0.5, 6: 0.0, 7: 0, 8: 0, 9: 0, 10: 0}\n",
            "Difference (B-A): {1: 0, 2: 0, 3: 0, 4: 0, 5: 0, 6: 1, 7: 0, 8: 1, 9: 0, 10: 1}\n"
          ]
        }
      ],
      "source": [
        "# prompt: write me code to demonstrate fuzzy logic, make basic two sets A and B.\n",
        "# Do me Union, Intersection, Compliment, A-B, B-A\n",
        "\n",
        "def fuzzy_set(elements, membership_function):\n",
        "  \"\"\"Creates a fuzzy set.\n",
        "\n",
        "  Args:\n",
        "    elements: A list of elements in the universe of discourse.\n",
        "    membership_function: A function that maps each element to its membership\n",
        "      value (between 0 and 1).\n",
        "\n",
        "  Returns:\n",
        "    A dictionary representing the fuzzy set, where keys are elements and values\n",
        "    are their membership degrees.\n",
        "  \"\"\"\n",
        "  return {element: membership_function(element) for element in elements}\n",
        "\n",
        "def union(set_a, set_b):\n",
        "  \"\"\"Calculates the union of two fuzzy sets.\"\"\"\n",
        "  union_set = {}\n",
        "  for element in set(set_a.keys()) | set(set_b.keys()):\n",
        "    union_set[element] = max(set_a.get(element, 0), set_b.get(element, 0))\n",
        "  return union_set\n",
        "\n",
        "def intersection(set_a, set_b):\n",
        "  \"\"\"Calculates the intersection of two fuzzy sets.\"\"\"\n",
        "  intersection_set = {}\n",
        "  for element in set(set_a.keys()) & set(set_b.keys()):\n",
        "    intersection_set[element] = min(set_a.get(element, 0), set_b.get(element, 0))\n",
        "  return intersection_set\n",
        "\n",
        "def complement(set_a):\n",
        "  \"\"\"Calculates the complement of a fuzzy set.\"\"\"\n",
        "  complement_set = {}\n",
        "  for element in set_a.keys():\n",
        "    complement_set[element] = 1 - set_a[element]\n",
        "  return complement_set\n",
        "\n",
        "def difference(set_a, set_b):\n",
        "  \"\"\"Calculates the difference between two fuzzy sets (A-B).\"\"\"\n",
        "  difference_set = {}\n",
        "  for element in set_a.keys():\n",
        "      difference_set[element] = min(set_a[element], 1 - set_b.get(element, 0))\n",
        "  return difference_set\n",
        "\n",
        "# Define the universe of discourse\n",
        "universe = [1, 2, 3, 4, 5, 6, 7, 8, 9, 10]\n",
        "\n",
        "# Define membership functions for set A (e.g., \"small numbers\")\n",
        "def membership_a(x):\n",
        "  if x <= 4:\n",
        "    return 1\n",
        "  elif x <= 6:\n",
        "    return (6 - x) / 2\n",
        "  else:\n",
        "    return 0\n",
        "\n",
        "# Define membership functions for set B (e.g., \"even numbers\")\n",
        "def membership_b(x):\n",
        "  if x % 2 == 0:\n",
        "    return 1\n",
        "  else:\n",
        "    return 0\n",
        "\n",
        "# Create fuzzy sets A and B\n",
        "set_a = fuzzy_set(universe, membership_a)\n",
        "set_b = fuzzy_set(universe, membership_b)\n",
        "\n",
        "# Perform fuzzy set operations\n",
        "union_ab = union(set_a, set_b)\n",
        "intersection_ab = intersection(set_a, set_b)\n",
        "complement_a = complement(set_a)\n",
        "difference_ab = difference(set_a, set_b)\n",
        "difference_ba = difference(set_b, set_a)\n",
        "\n",
        "# Print the results\n",
        "print(\"Set A:\", set_a)\n",
        "print(\"Set B:\", set_b)\n",
        "print(\"Union (A∪B):\", union_ab)\n",
        "print(\"Intersection (A∩B):\", intersection_ab)\n",
        "print(\"Complement of A (A'):\", complement_a)\n",
        "print(\"Difference (A-B):\", difference_ab)\n",
        "print(\"Difference (B-A):\", difference_ba)"
      ]
    }
  ]
}